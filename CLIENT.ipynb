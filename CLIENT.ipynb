{
 "cells": [
  {
   "cell_type": "code",
   "execution_count": 18,
   "metadata": {},
   "outputs": [
    {
     "name": "stdout",
     "output_type": "stream",
     "text": [
      "8192\n",
      "8192\n",
      "8192\n",
      "8192\n",
      "[[1, 'Nikolaj', 999.0], [404, 'Michael', 123.0], [420, 'Daniel', 69.0], [666, 'Jacob', 20.0]]\n"
     ]
    }
   ],
   "source": [
    "import json\n",
    "import xmlrpc.client\n",
    "\n",
    "with xmlrpc.client.ServerProxy(\"http://localhost:8000/\") as proxy:\n",
    "    #Clear Database\n",
    "    proxy.clear_db()\n",
    "    \n",
    "    # Open Json File\n",
    "    with open('data.json', 'r') as f:\n",
    "        data = json.load(f)\n",
    "        \n",
    "        # Iterate customers from data\n",
    "        for c in data:\n",
    "            # Insert Customer and print DB size\n",
    "            print(proxy.add_new_customer(c[\"accnum\"], c[\"name\"], c[\"amount\"]))\n",
    "    \n",
    "    # Print all customers from DB\n",
    "    print(proxy.get_all_customers())"
   ]
  }
 ],
 "metadata": {
  "kernelspec": {
   "display_name": "Python 3",
   "language": "python",
   "name": "python3"
  },
  "language_info": {
   "codemirror_mode": {
    "name": "ipython",
    "version": 3
   },
   "file_extension": ".py",
   "mimetype": "text/x-python",
   "name": "python",
   "nbconvert_exporter": "python",
   "pygments_lexer": "ipython3",
   "version": "3.7.3"
  }
 },
 "nbformat": 4,
 "nbformat_minor": 2
}
